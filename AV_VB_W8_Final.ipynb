{
 "cells": [
  {
   "cell_type": "markdown",
   "id": "36e1a0a6",
   "metadata": {},
   "source": [
    "# Exploratory Data Analysis"
   ]
  },
  {
   "cell_type": "markdown",
   "id": "bfed1735",
   "metadata": {},
   "source": [
    "### Objective and Hypotheses:"
   ]
  },
  {
   "cell_type": "markdown",
   "id": "15b7ad61",
   "metadata": {},
   "source": [
    "#### To analyze the price relations between certain cryptocurrencies and the equities market over a 32 months period and to determine possible correlations.\n",
    "\n",
    "#### Hypothesis (1): Price of cryptocurrencies (BTC and ETH) strongly correlate, but do not correlate with the broader equities market (SPY).\n",
    "\n",
    "#### Hypothesis (2): Price of blockchain related stocks correlates better with BTC than with the prices of other stocks."
   ]
  },
  {
   "cell_type": "code",
   "execution_count": 1,
   "id": "a3f981b2",
   "metadata": {},
   "outputs": [],
   "source": [
    "# Don't modify this cell.\n",
    "# Dependencies and Setup\n",
    "import matplotlib.pyplot as plt\n",
    "import seaborn as sns\n",
    "import pandas as pd\n",
    "import numpy as np\n",
    "\n",
    "#import statistics\n",
    "import requests\n",
    "import time\n",
    "#import math\n",
    "#from scipy import stats\n",
    "from pprint import pprint\n",
    "\n",
    "# Import API key\n",
    "from api_keys import api_key\n",
    "\n",
    "#import ready packages\n",
    "from alpha_vantage.timeseries import TimeSeries\n",
    "from alpha_vantage.cryptocurrencies import CryptoCurrencies"
   ]
  },
  {
   "cell_type": "code",
   "execution_count": null,
   "id": "527329b1",
   "metadata": {},
   "outputs": [],
   "source": []
  }
 ],
 "metadata": {
  "kernelspec": {
   "display_name": "Python 3 (ipykernel)",
   "language": "python",
   "name": "python3"
  },
  "language_info": {
   "codemirror_mode": {
    "name": "ipython",
    "version": 3
   },
   "file_extension": ".py",
   "mimetype": "text/x-python",
   "name": "python",
   "nbconvert_exporter": "python",
   "pygments_lexer": "ipython3",
   "version": "3.9.7"
  }
 },
 "nbformat": 4,
 "nbformat_minor": 5
}
