{
 "cells": [
  {
   "cell_type": "markdown",
   "id": "36e1a0a6",
   "metadata": {},
   "source": [
    "# Exploratory Data Analysis"
   ]
  },
  {
   "cell_type": "markdown",
   "id": "bfed1735",
   "metadata": {},
   "source": [
    "### Objective and Hypotheses:"
   ]
  },
  {
   "cell_type": "markdown",
   "id": "15b7ad61",
   "metadata": {},
   "source": [
    "#### To analyze the price relations between certain cryptocurrencies and the equities market over a 32 months period and to determine possible correlations.\n",
    "\n",
    "#### Hypothesis (1): Price of cryptocurrencies (BTC and ETH) strongly correlate, but do not correlate with the broader equities market (SPY).\n",
    "\n",
    "#### Hypothesis (2): Price of blockchain related stocks correlates better with BTC than with the prices of other stocks."
   ]
  },
  {
   "cell_type": "code",
   "execution_count": 2,
   "id": "a3f981b2",
   "metadata": {},
   "outputs": [],
   "source": [
    "# Don't modify this cell.\n",
    "# Dependencies and Setup\n",
    "import matplotlib.pyplot as plt\n",
    "import seaborn as sns\n",
    "import pandas as pd\n",
    "import numpy as np\n",
    "\n",
    "#import statistics\n",
    "import requests\n",
    "import time\n",
    "#import math\n",
    "#from scipy import stats\n",
    "from pprint import pprint\n",
    "\n",
    "# Import API key\n",
    "from api_keys import api_key\n",
    "\n",
    "#import ready packages\n",
    "from alpha_vantage.timeseries import TimeSeries\n",
    "from alpha_vantage.cryptocurrencies import CryptoCurrencies"
   ]
  },
  {
   "cell_type": "markdown",
   "id": "2dbefd5c",
   "metadata": {},
   "source": [
    "#### The above code imports all packages we might need"
   ]
  },
  {
   "cell_type": "code",
   "execution_count": 4,
   "id": "0d1796ab",
   "metadata": {},
   "outputs": [
    {
     "data": {
      "text/html": [
       "<div>\n",
       "<style scoped>\n",
       "    .dataframe tbody tr th:only-of-type {\n",
       "        vertical-align: middle;\n",
       "    }\n",
       "\n",
       "    .dataframe tbody tr th {\n",
       "        vertical-align: top;\n",
       "    }\n",
       "\n",
       "    .dataframe thead th {\n",
       "        text-align: right;\n",
       "    }\n",
       "</style>\n",
       "<table border=\"1\" class=\"dataframe\">\n",
       "  <thead>\n",
       "    <tr style=\"text-align: right;\">\n",
       "      <th></th>\n",
       "      <th>BTC (USD)</th>\n",
       "      <th>ETH (USD)</th>\n",
       "    </tr>\n",
       "    <tr>\n",
       "      <th>date</th>\n",
       "      <th></th>\n",
       "      <th></th>\n",
       "    </tr>\n",
       "  </thead>\n",
       "  <tbody>\n",
       "    <tr>\n",
       "      <th>2021-11-11</th>\n",
       "      <td>64535.8</td>\n",
       "      <td>4592.74</td>\n",
       "    </tr>\n",
       "  </tbody>\n",
       "</table>\n",
       "</div>"
      ],
      "text/plain": [
       "            BTC (USD)  ETH (USD)\n",
       "date                            \n",
       "2021-11-11    64535.8    4592.74"
      ]
     },
     "execution_count": 4,
     "metadata": {},
     "output_type": "execute_result"
    }
   ],
   "source": [
    "#Using existing alpha_vantage packages:\n",
    "\n",
    "def get_crypto(sym, mar): # function takes the symbol of the crypto and the market (US) as parameters\n",
    "    ccb = CryptoCurrencies(key=api_key, output_format='pandas')\n",
    "    data, meta_data = ccb.get_digital_currency_daily(symbol=sym, market=mar)\n",
    "    data = data.drop(columns = ['1a. open (USD)', '1b. open (USD)', '2a. high (USD)', '2b. high (USD)',\n",
    "       '3a. low (USD)', '3b. low (USD)', '4a. close (USD)',\n",
    "       '5. volume', '6. market cap (USD)']) # we drop all columns we do not need, keep only the close price\n",
    "    data = data.rename(columns = {'4b. close (USD)' : f'{sym} (USD)'}) # rename column appropriately\n",
    "    return data, meta_data\n",
    "\n",
    "b_data, b_meta_data = get_crypto('BTC', 'USD') # request and load data using our function\n",
    "e_data, e_meta_data = get_crypto('ETH', 'USD')\n",
    "\n",
    "crypto_data = pd.concat([b_data, e_data], axis = 1) # put both into the same dataframe for ease of use\n",
    "crypto_data.head(1)"
   ]
  },
  {
   "cell_type": "code",
   "execution_count": null,
   "id": "c08d456a",
   "metadata": {},
   "outputs": [],
   "source": []
  }
 ],
 "metadata": {
  "kernelspec": {
   "display_name": "Python 3 (ipykernel)",
   "language": "python",
   "name": "python3"
  },
  "language_info": {
   "codemirror_mode": {
    "name": "ipython",
    "version": 3
   },
   "file_extension": ".py",
   "mimetype": "text/x-python",
   "name": "python",
   "nbconvert_exporter": "python",
   "pygments_lexer": "ipython3",
   "version": "3.8.12"
  }
 },
 "nbformat": 4,
 "nbformat_minor": 5
}
